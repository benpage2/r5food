{
 "cells": [
  {
   "cell_type": "code",
   "execution_count": 1,
   "id": "c945fafa-88f4-4009-a62d-457c8c7e1f8b",
   "metadata": {},
   "outputs": [],
   "source": [
    "import sys\n",
    "sys.argv.append([\"--max-memory\", \"90%\"])"
   ]
  },
  {
   "cell_type": "code",
   "execution_count": 2,
   "id": "adad4c5e-6dbb-474f-aa3d-77c785de803f",
   "metadata": {},
   "outputs": [],
   "source": [
    "import geopandas as gpd\n",
    "import os\n",
    "from src import tessellate_hex\n",
    "import matplotlib.pyplot as plt\n",
    "import r5py\n",
    "import datetime\n",
    "import pandas as pd\n",
    "import numpy as np"
   ]
  },
  {
   "cell_type": "code",
   "execution_count": 3,
   "id": "b97a5520-7f30-460e-bf62-c3221d203f77",
   "metadata": {},
   "outputs": [],
   "source": [
    "os.chdir('/Users/benpage/Documents/GitHub/r5food/data')"
   ]
  },
  {
   "cell_type": "code",
   "execution_count": 4,
   "id": "02be58a0-bed2-4536-bb40-8d44a89c3e34",
   "metadata": {},
   "outputs": [],
   "source": [
    "supermarkets = gpd.read_file('supermarkets.geojson')\n",
    "tor_boundry = gpd.read_file('tor_boundry.geojson')"
   ]
  },
  {
   "cell_type": "code",
   "execution_count": 5,
   "id": "46c61af5-31de-45fa-887f-9f197a49a260",
   "metadata": {},
   "outputs": [],
   "source": [
    "boundry_geo = tor_boundry.geometry\n",
    "tor_hex = tessellate_hex(boundry_geo, res = 10)"
   ]
  },
  {
   "cell_type": "code",
   "execution_count": 6,
   "id": "3116bda1-e91a-4281-8ca6-9fb13249a866",
   "metadata": {},
   "outputs": [],
   "source": [
    "hex_point = tor_hex.copy().to_crs('EPSG:26917')\n",
    "hex_point['geometry'] = hex_point['geometry'].centroid"
   ]
  },
  {
   "cell_type": "code",
   "execution_count": null,
   "id": "933e9948-300e-4d6c-a5d9-69f816f64985",
   "metadata": {},
   "outputs": [],
   "source": [
    "tor_hex.explore()"
   ]
  },
  {
   "cell_type": "raw",
   "id": "f8029c2a-b584-4cf4-aca1-5e4e20c45bb0",
   "metadata": {},
   "source": [
    "hex_point.explore()"
   ]
  },
  {
   "cell_type": "raw",
   "id": "489a477f-c094-4f3e-9698-0b735800bede",
   "metadata": {},
   "source": [
    "supermarkets.explore(column = 'brand')"
   ]
  },
  {
   "cell_type": "raw",
   "id": "e8a673d4-97f8-4a4c-a769-86753566dc38",
   "metadata": {},
   "source": [
    "supermarkets.head()"
   ]
  },
  {
   "cell_type": "code",
   "execution_count": 7,
   "id": "bb2e156a-2f5e-444f-a372-4dcde2edf907",
   "metadata": {},
   "outputs": [
    {
     "data": {
      "text/plain": [
       "array([None, 'No Frills', 'Food Basics', 'Marché Adonis', 'Rabba',\n",
       "       'Whole Foods Market', 'Sobeys', 'Loblaws', 'Metro', 'Farm Boy',\n",
       "       'Whole Foods', 'Valu-mart', \"Longo's\", 'Bulk Barn',\n",
       "       'Real Canadian Superstore', 'T&T Supermarket', 'Walmart',\n",
       "       'FreshCo', 'Foodland', 'Your Independent Grocer', 'Fortinos',\n",
       "       'The Source Bulk Foods', 'Yours', 'H Mart', 'The Grocery Outlet',\n",
       "       'Eataly'], dtype=object)"
      ]
     },
     "execution_count": 7,
     "metadata": {},
     "output_type": "execute_result"
    }
   ],
   "source": [
    "supermarkets['brand'].unique()"
   ]
  },
  {
   "cell_type": "code",
   "execution_count": 8,
   "id": "19f79ca7-8111-42db-a10d-5c7a54287b5f",
   "metadata": {},
   "outputs": [],
   "source": [
    "brand_name = 'Walmart'"
   ]
  },
  {
   "cell_type": "code",
   "execution_count": 9,
   "id": "a3c51b43-7d9d-4f6b-b07a-c262527beb62",
   "metadata": {},
   "outputs": [],
   "source": [
    "dests = supermarkets.query(\"brand == @brand_name\")"
   ]
  },
  {
   "cell_type": "code",
   "execution_count": 10,
   "id": "38c6bfcc-1176-4b6c-90ed-3754f0f703ae",
   "metadata": {},
   "outputs": [],
   "source": [
    "origins = hex_point"
   ]
  },
  {
   "cell_type": "code",
   "execution_count": 11,
   "id": "83069c48-9986-4487-8d2b-1a0d7ae8bee9",
   "metadata": {},
   "outputs": [
    {
     "data": {
      "text/html": [
       "<div>\n",
       "<style scoped>\n",
       "    .dataframe tbody tr th:only-of-type {\n",
       "        vertical-align: middle;\n",
       "    }\n",
       "\n",
       "    .dataframe tbody tr th {\n",
       "        vertical-align: top;\n",
       "    }\n",
       "\n",
       "    .dataframe thead th {\n",
       "        text-align: right;\n",
       "    }\n",
       "</style>\n",
       "<table border=\"1\" class=\"dataframe\">\n",
       "  <thead>\n",
       "    <tr style=\"text-align: right;\">\n",
       "      <th></th>\n",
       "      <th>id</th>\n",
       "      <th>geometry</th>\n",
       "    </tr>\n",
       "  </thead>\n",
       "  <tbody>\n",
       "    <tr>\n",
       "      <th>0</th>\n",
       "      <td>0</td>\n",
       "      <td>POINT (639220.289 4840269.868)</td>\n",
       "    </tr>\n",
       "    <tr>\n",
       "      <th>1</th>\n",
       "      <td>1</td>\n",
       "      <td>POINT (613083.685 4844845.978)</td>\n",
       "    </tr>\n",
       "    <tr>\n",
       "      <th>2</th>\n",
       "      <td>2</td>\n",
       "      <td>POINT (642865.222 4846222.197)</td>\n",
       "    </tr>\n",
       "    <tr>\n",
       "      <th>3</th>\n",
       "      <td>3</td>\n",
       "      <td>POINT (624208.751 4846353.142)</td>\n",
       "    </tr>\n",
       "    <tr>\n",
       "      <th>4</th>\n",
       "      <td>4</td>\n",
       "      <td>POINT (613519.38 4837369.747)</td>\n",
       "    </tr>\n",
       "    <tr>\n",
       "      <th>...</th>\n",
       "      <td>...</td>\n",
       "      <td>...</td>\n",
       "    </tr>\n",
       "    <tr>\n",
       "      <th>40240</th>\n",
       "      <td>40240</td>\n",
       "      <td>POINT (615877.521 4833845.898)</td>\n",
       "    </tr>\n",
       "    <tr>\n",
       "      <th>40241</th>\n",
       "      <td>40241</td>\n",
       "      <td>POINT (637054.551 4841411.273)</td>\n",
       "    </tr>\n",
       "    <tr>\n",
       "      <th>40242</th>\n",
       "      <td>40242</td>\n",
       "      <td>POINT (616735.335 4845633.48)</td>\n",
       "    </tr>\n",
       "    <tr>\n",
       "      <th>40243</th>\n",
       "      <td>40243</td>\n",
       "      <td>POINT (622003.498 4847972.257)</td>\n",
       "    </tr>\n",
       "    <tr>\n",
       "      <th>40244</th>\n",
       "      <td>40244</td>\n",
       "      <td>POINT (646110.753 4847092.507)</td>\n",
       "    </tr>\n",
       "  </tbody>\n",
       "</table>\n",
       "<p>40245 rows × 2 columns</p>\n",
       "</div>"
      ],
      "text/plain": [
       "          id                        geometry\n",
       "0          0  POINT (639220.289 4840269.868)\n",
       "1          1  POINT (613083.685 4844845.978)\n",
       "2          2  POINT (642865.222 4846222.197)\n",
       "3          3  POINT (624208.751 4846353.142)\n",
       "4          4   POINT (613519.38 4837369.747)\n",
       "...      ...                             ...\n",
       "40240  40240  POINT (615877.521 4833845.898)\n",
       "40241  40241  POINT (637054.551 4841411.273)\n",
       "40242  40242   POINT (616735.335 4845633.48)\n",
       "40243  40243  POINT (622003.498 4847972.257)\n",
       "40244  40244  POINT (646110.753 4847092.507)\n",
       "\n",
       "[40245 rows x 2 columns]"
      ]
     },
     "execution_count": 11,
     "metadata": {},
     "output_type": "execute_result"
    }
   ],
   "source": [
    "origins"
   ]
  },
  {
   "cell_type": "code",
   "execution_count": 12,
   "id": "7b6c5c35-bf7f-48a6-bdea-8bee66490b20",
   "metadata": {},
   "outputs": [
    {
     "data": {
      "text/plain": [
       "count\n",
       "False    9\n",
       "Name: count, dtype: int64"
      ]
     },
     "execution_count": 12,
     "metadata": {},
     "output_type": "execute_result"
    }
   ],
   "source": [
    "(dests['id'].value_counts() > 1).value_counts()"
   ]
  },
  {
   "cell_type": "code",
   "execution_count": 13,
   "id": "f9184dda-1af6-429d-872f-46d400c05513",
   "metadata": {},
   "outputs": [],
   "source": [
    "transport_network = r5py.TransportNetwork('Toronto.osm.pbf', \n",
    "                                          gtfs='ttc_gtfs.zip')"
   ]
  },
  {
   "cell_type": "code",
   "execution_count": null,
   "id": "c6f1f0ad-ba6d-45f7-a69b-81c0489b3915",
   "metadata": {},
   "outputs": [],
   "source": [
    "travel_time_matrix = r5py.TravelTimeMatrix(\n",
    "    transport_network,\n",
    "    origins=origins,\n",
    "    destinations=dests,\n",
    "    transport_modes=[r5py.TransportMode.TRANSIT],\n",
    "    departure=datetime.datetime(2025, 4, 11, 18, 0, 0),\n",
    ")"
   ]
  },
  {
   "cell_type": "code",
   "execution_count": null,
   "id": "a01665a3-c400-4b6e-bb1b-287e4dcb36f0",
   "metadata": {},
   "outputs": [],
   "source": [
    "df = travel_time_matrix.dropna(subset=['travel_time'])"
   ]
  },
  {
   "cell_type": "code",
   "execution_count": null,
   "id": "ed8383c0-4f40-4326-8f04-e1cfa508cd83",
   "metadata": {},
   "outputs": [],
   "source": [
    "idx = df.groupby('from_id')['travel_time'].idxmin()\n",
    "result = df.loc[idx]"
   ]
  },
  {
   "cell_type": "code",
   "execution_count": null,
   "id": "d82e32cb-0e83-4376-a40e-3a7e64867f16",
   "metadata": {},
   "outputs": [],
   "source": [
    "tor_hex"
   ]
  },
  {
   "cell_type": "code",
   "execution_count": null,
   "id": "dbcc5fef-1326-4180-b3f3-e0c7a8eb0e4e",
   "metadata": {},
   "outputs": [],
   "source": [
    "result.columns"
   ]
  },
  {
   "cell_type": "code",
   "execution_count": null,
   "id": "55ab14e3-65b7-4cb1-b016-d18c329f92f9",
   "metadata": {},
   "outputs": [],
   "source": [
    "mergeL = pd.merge(tor_hex, result, left_on='id', right_on='from_id', how = 'left')\n",
    "mergeL"
   ]
  },
  {
   "cell_type": "code",
   "execution_count": null,
   "id": "bb997bb6-7425-459a-ab76-85f52ed2d35b",
   "metadata": {},
   "outputs": [],
   "source": [
    "mergeL.explore(column = 'travel_time')"
   ]
  },
  {
   "cell_type": "code",
   "execution_count": null,
   "id": "315bbf9d-2724-4f71-a21d-3892c4c419d0",
   "metadata": {},
   "outputs": [],
   "source": []
  }
 ],
 "metadata": {
  "kernelspec": {
   "display_name": "Python 3 (ipykernel)",
   "language": "python",
   "name": "python3"
  },
  "language_info": {
   "codemirror_mode": {
    "name": "ipython",
    "version": 3
   },
   "file_extension": ".py",
   "mimetype": "text/x-python",
   "name": "python",
   "nbconvert_exporter": "python",
   "pygments_lexer": "ipython3",
   "version": "3.11.11"
  }
 },
 "nbformat": 4,
 "nbformat_minor": 5
}
