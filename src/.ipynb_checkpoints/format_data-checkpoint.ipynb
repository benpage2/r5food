{
 "cells": [
  {
   "cell_type": "code",
   "execution_count": 2,
   "id": "b78632f8-9cbd-46ac-b156-1652780750b9",
   "metadata": {},
   "outputs": [],
   "source": [
    "import geopandas as gpd\n",
    "import shapely as sh\n",
    "import os\n",
    "import pyrosm"
   ]
  },
  {
   "cell_type": "code",
   "execution_count": 3,
   "id": "2cf34033-bab1-4994-a05c-37343655783c",
   "metadata": {},
   "outputs": [],
   "source": [
    "def get_extract(data_dir, location):\n",
    "    osm_data = pyrosm.get_data(location, directory=data_dir)\n",
    "    print(\"Data was downloaded to:\", osm_data)\n",
    "    return osm_data"
   ]
  },
  {
   "cell_type": "code",
   "execution_count": 6,
   "id": "aa578665-25b2-49b6-ac7a-44b30646b015",
   "metadata": {},
   "outputs": [],
   "source": [
    "def get_supermarkets(extract_file, boundry):\n",
    "    boundry_geom = boundry['geometry'].values[0]\n",
    "    print('Loading extract')\n",
    "    tor_osm = pyrosm.OSM(extract_file, boundry_geom)\n",
    "    print('Getting supermarkets')\n",
    "    return tor_osm.get_data_by_custom_criteria(custom_filter={'shop':['supermarket']}, extra_attributes=['brand'], keep_ways=False)"
   ]
  },
  {
   "cell_type": "code",
   "execution_count": null,
   "id": "2aef96c5-ac47-41be-81df-4bd64cf109bb",
   "metadata": {},
   "outputs": [],
   "source": []
  },
  {
   "cell_type": "code",
   "execution_count": 7,
   "id": "27457b68-5a46-4cb6-9b74-24fea23e3f9e",
   "metadata": {},
   "outputs": [
    {
     "name": "stdout",
     "output_type": "stream",
     "text": [
      "Loading extract\n",
      "Getting supermarkets\n"
     ]
    }
   ],
   "source": [
    "if __name__ == '__main__':\n",
    "    os.chdir('/Users/benpage/Documents/GitHub/r5food/data/')\n",
    "    extract_name = 'Toronto.osm.pbf'\n",
    "    location = 'Toronto'\n",
    "    data_dir = '/Users/benpage/Documents/GitHub/r5food/data/'\n",
    "\n",
    "    tor_boundry = gpd.read_file('tor_boundry.geojson')\n",
    "    supermarkets = get_supermarkets(extract_name, tor_boundry)\n",
    "    supermarkets.to_file('supermarkets.geoJSON')\n",
    "    \n",
    "    # neighborhoods = gpd.read_file('tor_neigh.geojson')\n",
    "    # boundry = neighborhoods.dissolve()\n",
    "    # boundry_geom = boundry['geometry'].values[0]\n",
    "    \n",
    "    # tor_file = get_extract(data_dir, location)\n",
    "    # boundry_geom = boundry['geometry'].values[0]\n",
    "    # tor_osm = pyrosm.OSM(tor_file, boundry_geom)\n",
    "    # supermarkets = tor_osm.get_data_by_custom_criteria(custom_filter={'shop':['supermarket']}, extra_attributes=['brand'], keep_ways=False)"
   ]
  },
  {
   "cell_type": "code",
   "execution_count": null,
   "id": "c51e4cdc-d617-4aee-ad28-1a45a4b7c577",
   "metadata": {},
   "outputs": [],
   "source": []
  }
 ],
 "metadata": {
  "kernelspec": {
   "display_name": "Python 3 (ipykernel)",
   "language": "python",
   "name": "python3"
  },
  "language_info": {
   "codemirror_mode": {
    "name": "ipython",
    "version": 3
   },
   "file_extension": ".py",
   "mimetype": "text/x-python",
   "name": "python",
   "nbconvert_exporter": "python",
   "pygments_lexer": "ipython3",
   "version": "3.11.11"
  }
 },
 "nbformat": 4,
 "nbformat_minor": 5
}
