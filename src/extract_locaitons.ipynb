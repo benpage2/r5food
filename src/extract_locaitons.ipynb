{
 "cells": [
  {
   "cell_type": "code",
   "execution_count": 2,
   "id": "97af4451-0385-436f-8a24-ddb6263ed836",
   "metadata": {},
   "outputs": [],
   "source": [
    "from pyrosm import OSM\n",
    "from pyrosm import get_data"
   ]
  },
  {
   "cell_type": "code",
   "execution_count": 4,
   "id": "da677231-da8c-4d56-8223-6481e484adc0",
   "metadata": {},
   "outputs": [],
   "source": [
    "def get_extract(data_dir, location):\n",
    "    osm_data = get_data(location, directory=data_dir)\n",
    "    print(\"Data was downloaded to:\", osm_data)\n",
    "    return osm_data"
   ]
  },
  {
   "cell_type": "code",
   "execution_count": 6,
   "id": "e7a3188b-c226-4eec-8f5b-9b743e03148f",
   "metadata": {},
   "outputs": [
    {
     "name": "stdout",
     "output_type": "stream",
     "text": [
      "Data was downloaded to: /Users/benpage/Documents/GitHub/r5food/data/Toronto.osm.pbf\n"
     ]
    }
   ],
   "source": [
    "if __name__ == '__main__':\n",
    "    data_dir = '/Users/benpage/Documents/GitHub/r5food/data/'\n",
    "    extract_dir = '/Users/benpage/Documents/GitHub/r5food/data/Toronto.osm.pbf'\n",
    "    location = 'Toronto'\n",
    "\n",
    "    osm_extract = get_extract(data_dir, location)\n",
    "    "
   ]
  }
 ],
 "metadata": {
  "kernelspec": {
   "display_name": "Python 3 (ipykernel)",
   "language": "python",
   "name": "python3"
  },
  "language_info": {
   "codemirror_mode": {
    "name": "ipython",
    "version": 3
   },
   "file_extension": ".py",
   "mimetype": "text/x-python",
   "name": "python",
   "nbconvert_exporter": "python",
   "pygments_lexer": "ipython3",
   "version": "3.11.11"
  }
 },
 "nbformat": 4,
 "nbformat_minor": 5
}
