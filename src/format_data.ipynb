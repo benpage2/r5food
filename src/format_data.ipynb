{
 "cells": [
  {
   "cell_type": "code",
   "execution_count": 1,
   "id": "b78632f8-9cbd-46ac-b156-1652780750b9",
   "metadata": {},
   "outputs": [],
   "source": [
    "import geopandas as gpd\n",
    "import shapely as sh\n",
    "import os\n",
    "import pyrosm\n",
    "import pandas as pd\n",
    "import json"
   ]
  },
  {
   "cell_type": "code",
   "execution_count": 2,
   "id": "8bee3036-0e99-4dfb-b0de-32ce3a877ca9",
   "metadata": {},
   "outputs": [],
   "source": [
    "os.chdir('/Users/benpage/Documents/GitHub/r5food/data/')"
   ]
  },
  {
   "cell_type": "code",
   "execution_count": 3,
   "id": "2cf34033-bab1-4994-a05c-37343655783c",
   "metadata": {},
   "outputs": [],
   "source": [
    "def get_extract(data_dir, location):\n",
    "    osm_data = pyrosm.get_data(location, directory=data_dir)\n",
    "    print(\"Data was downloaded to:\", osm_data)\n",
    "    return osm_data"
   ]
  },
  {
   "cell_type": "code",
   "execution_count": 4,
   "id": "aa578665-25b2-49b6-ac7a-44b30646b015",
   "metadata": {},
   "outputs": [],
   "source": [
    "def get_supermarkets(extract_file, boundry):\n",
    "    \n",
    "    boundry_geom = boundry['geometry'].values[0]\n",
    "    print('Loading extract')\n",
    "    \n",
    "    tor_osm = pyrosm.OSM(extract_file, boundry_geom)\n",
    "    print('Getting supermarkets')\n",
    "    supermarkets = tor_osm.get_data_by_custom_criteria(custom_filter={'shop':['supermarket']}, \n",
    "                                               extra_attributes=['brand'], \n",
    "                                               keep_relations=False)\n",
    "    supermarkets['geometry'] = supermarkets['geometry'].to_crs('EPSG:26917').centroid\n",
    "    return supermarkets"
   ]
  },
  {
   "cell_type": "code",
   "execution_count": 26,
   "id": "fcc62d94-1b2b-4b06-8cd5-9468ed8c24c4",
   "metadata": {},
   "outputs": [
    {
     "name": "stdout",
     "output_type": "stream",
     "text": [
      "Loading extract\n",
      "Getting supermarkets\n"
     ]
    }
   ],
   "source": [
    "if __name__ == '__main__':\n",
    "    os.chdir('/Users/benpage/Documents/GitHub/r5food/data/')\n",
    "    extract_name = 'Toronto.osm.pbf'\n",
    "    location = 'Toronto'\n",
    "    data_dir = '/Users/benpage/Documents/GitHub/r5food/data/'\n",
    "\n",
    "    tor_boundry = gpd.read_file('tor_boundry.geojson')\n",
    "    supermarkets = get_supermarkets(extract_name, tor_boundry)\n",
    "    # market_filter = supermarkets[['id', 'tags', 'addr:city', 'addr:housenumber', 'addr:postcode', \n",
    "    #      'addr:place', 'addr:street', 'operator', 'phone', 'ref', 'website',\n",
    "    #      'brand', 'geometry', 'osm_type', 'alcohol']].sort_values(by='brand')\n",
    "    # market_filter.to_file('supermarkets.geoJSON')\n",
    "\n",
    "    supermarkets['brand'] = supermarkets['brand'].fillna(supermarkets['name'])\n",
    "    replacements = {'Whole Foods Market': 'Whole Foods'}\n",
    "    supermarkets['brand'] = supermarkets['brand'].replace(replacements)\n",
    "    supermarkets = supermarkets.dropna(subset=['brand'])\n",
    "    brand_count = supermarkets['brand'].value_counts()\n",
    "    brand_count.to_csv('all_brands.csv')\n",
    "    \n",
    "    to_remove = brand_count < 2\n",
    "    to_remove['Bulk Barn'] = True\n",
    "    \n",
    "    remove_counts = brand_count.loc[to_remove]\n",
    "    remove_counts.to_csv('removed_supermarkets_counts.csv')\n",
    "    \n",
    "    remove_lst = to_remove[to_remove].index.tolist()\n",
    "    supermarkets = supermarkets.query(\"brand not in @remove_lst\")\n",
    "    \n",
    "    addr_cols = ['addr:housenumber',\n",
    "                 'addr:street',\n",
    "                 'addr:city',\n",
    "                 'addr:postcode']\n",
    "    \n",
    "    supermarkets[addr_cols] = supermarkets[addr_cols].fillna('')\n",
    "    \n",
    "    supermarkets['address'] = supermarkets[addr_cols].agg(''.join, axis=1).replace('', None)\n",
    "\n",
    "    supermarkets['lat'] = supermarkets.geometry.x\n",
    "    supermarkets['lon'] = supermarkets.geometry.x\n",
    "    supermarkets = supermarkets.reset_index(drop=True)\n",
    "    \n",
    "    supermarkets['id_2'] = supermarkets.index + 1\n",
    "\n",
    "    supermarkets[['id', 'id_2']].to_csv('supermarkets_id.csv')\n",
    "\n",
    "    col_keep = ['id_2', 'address','brand', 'lat', 'lon', 'geometry']\n",
    "    supermarkets_clean = supermarkets[col_keep].copy()\n",
    "\n",
    "    supermarkets_clean = supermarkets_clean.rename(columns = {'id_2':'id'})\n",
    "    supermarkets_clean.to_file('supermarkets.geoJSON')\n",
    "    \n",
    "    supermarkets_clean = supermarkets[col_keep]\n",
    "    \n",
    "    # supermarkets_clean"
   ]
  }
 ],
 "metadata": {
  "kernelspec": {
   "display_name": "Python 3 (ipykernel)",
   "language": "python",
   "name": "python3"
  },
  "language_info": {
   "codemirror_mode": {
    "name": "ipython",
    "version": 3
   },
   "file_extension": ".py",
   "mimetype": "text/x-python",
   "name": "python",
   "nbconvert_exporter": "python",
   "pygments_lexer": "ipython3",
   "version": "3.11.11"
  }
 },
 "nbformat": 4,
 "nbformat_minor": 5
}
