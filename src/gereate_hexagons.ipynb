{
 "cells": [
  {
   "cell_type": "code",
   "execution_count": 87,
   "id": "00c36e38-fc59-4ac3-b92d-af60b6b5ce7c",
   "metadata": {},
   "outputs": [],
   "source": [
    "import geopandas as gpd\n",
    "import pandas as pd\n",
    "import shapely as sh\n",
    "import h3"
   ]
  },
  {
   "cell_type": "code",
   "execution_count": 1,
   "id": "01a5c534-9cfb-4377-88cb-62e4432a84a1",
   "metadata": {},
   "outputs": [],
   "source": [
    "def tessellate_hex(boundry_gdb, res = 7):\n",
    "    boundry_h3 = h3.geo_to_h3shape(boundry_gdb.iloc[0].__geo_interface__)\n",
    "    hex_list = h3.h3shape_to_cells(boundry_h3, res)\n",
    "    geos = []\n",
    "    for hex_id in hex_list:\n",
    "        h3_boundary = h3.cell_to_boundary(hex_id)\n",
    "        h3_boundary_geojson = [(lng, lat) for lat, lng in h3_boundary]\n",
    "        poly = sh.Polygon(h3_boundary_geojson)\n",
    "        geos.append({\n",
    "            'id':hex_id,\n",
    "            'geom': poly\n",
    "        })\n",
    "    df = pd.DataFrame(geos)\n",
    "    gdf = gpd.GeoDataFrame(df, geometry='geom', crs=\"EPSG:4326\")\n",
    "    return gdf"
   ]
  },
  {
   "cell_type": "code",
   "execution_count": null,
   "id": "d9925292-68a9-4430-9302-a07520187411",
   "metadata": {},
   "outputs": [],
   "source": [
    "if __name__ == '__main__':\n",
    "    tor_boundry = gpd.read_file('tor_boundry.geojson')\n",
    "    boundry_geo = tor_boundry.geometry\n",
    "    tor_tess = tessellate_hex(boundry_geo)"
   ]
  }
 ],
 "metadata": {
  "kernelspec": {
   "display_name": "Python 3 (ipykernel)",
   "language": "python",
   "name": "python3"
  },
  "language_info": {
   "codemirror_mode": {
    "name": "ipython",
    "version": 3
   },
   "file_extension": ".py",
   "mimetype": "text/x-python",
   "name": "python",
   "nbconvert_exporter": "python",
   "pygments_lexer": "ipython3",
   "version": "3.11.11"
  }
 },
 "nbformat": 4,
 "nbformat_minor": 5
}
